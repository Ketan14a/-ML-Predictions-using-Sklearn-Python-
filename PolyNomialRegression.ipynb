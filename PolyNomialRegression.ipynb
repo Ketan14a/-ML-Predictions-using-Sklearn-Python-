{
 "cells": [
  {
   "cell_type": "code",
   "execution_count": 16,
   "metadata": {},
   "outputs": [
    {
     "name": "stdout",
     "output_type": "stream",
     "text": [
      "All modules imported!\n"
     ]
    }
   ],
   "source": [
    "import pandas as pd\n",
    "from sklearn.model_selection import train_test_split\n",
    "from sklearn.metrics import accuracy_score\n",
    "from sklearn.linear_model import LinearRegression\n",
    "from sklearn.preprocessing import PolynomialFeatures\n",
    "import math\n",
    "print \"All modules imported!\""
   ]
  },
  {
   "cell_type": "code",
   "execution_count": 19,
   "metadata": {},
   "outputs": [
    {
     "name": "stdout",
     "output_type": "stream",
     "text": [
      "Training and Testing data created successfully!\n"
     ]
    }
   ],
   "source": [
    "COLUMNS = ['Pregnancies','Glucose','BloodPressure','SkinThickness','Insulin','BMI','DiabetesPedigreeFunction','Age','Outcome']\n",
    "DATA = pd.read_csv('diabetes.csv',names=COLUMNS)\n",
    "X = DATA.iloc[:,:-1].values\n",
    "Y = DATA.iloc[:,-1].values\n",
    "X=X[1:]\n",
    "Y=Y[1:]\n",
    "X_train, X_test, Y_train, Y_test = train_test_split(X, Y, test_size=0.2, random_state=0) \n",
    "print \"Training and Testing data created successfully!\""
   ]
  },
  {
   "cell_type": "code",
   "execution_count": 28,
   "metadata": {},
   "outputs": [
    {
     "name": "stdout",
     "output_type": "stream",
     "text": [
      "   Actual  Predicted\n",
      "0       1   1.129127\n",
      "1       0   0.035598\n",
      "2       0   0.027889\n",
      "3       1   0.859045\n",
      "4       0   0.275097\n",
      "5       0  -0.066946\n",
      "6       1   0.788991\n",
      "7       1   1.121183\n",
      "8       0   1.142131\n",
      "9       0   0.487066\n",
      "10      1   0.676153\n",
      "11      1   0.898859\n",
      "12      0   0.375512\n",
      "13      0   0.784475\n",
      "14      0   0.348368\n"
     ]
    }
   ],
   "source": [
    "poly = PolynomialFeatures(degree=3)\n",
    "poly_x=poly.fit_transform(X_train)\n",
    "reg = LinearRegression(normalize=True)\n",
    "reg.fit(poly_x,Y_train)\n",
    "Ypred = reg.predict(poly.fit_transform(X_test))\n",
    "df = pd.DataFrame({'Actual': Y_test, 'Predicted': Ypred})  \n",
    "\n",
    "print(df[0:15])\n",
    "\n"
   ]
  },
  {
   "cell_type": "code",
   "execution_count": null,
   "metadata": {},
   "outputs": [],
   "source": []
  }
 ],
 "metadata": {
  "kernelspec": {
   "display_name": "Python 2",
   "language": "python",
   "name": "python2"
  },
  "language_info": {
   "codemirror_mode": {
    "name": "ipython",
    "version": 2
   },
   "file_extension": ".py",
   "mimetype": "text/x-python",
   "name": "python",
   "nbconvert_exporter": "python",
   "pygments_lexer": "ipython2",
   "version": "2.7.15+"
  }
 },
 "nbformat": 4,
 "nbformat_minor": 2
}
