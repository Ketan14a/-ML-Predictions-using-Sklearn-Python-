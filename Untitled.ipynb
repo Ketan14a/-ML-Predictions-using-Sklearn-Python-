{
 "cells": [
  {
   "cell_type": "code",
   "execution_count": 2,
   "metadata": {},
   "outputs": [
    {
     "name": "stdout",
     "output_type": "stream",
     "text": [
      "Done\n"
     ]
    }
   ],
   "source": [
    "from sklearn import datasets\n",
    "from sklearn.model_selection import train_test_split \n",
    "import pandas as pd  \n",
    "from sklearn.metrics import accuracy_score,confusion_matrix\n",
    "from sklearn.svm import SVC\n",
    "print(\"Done\")"
   ]
  },
  {
   "cell_type": "code",
   "execution_count": 3,
   "metadata": {},
   "outputs": [],
   "source": [
    "url = \"iris.data\"\n",
    "names = ['sepal-length', 'sepal-width', 'petal-length', 'petal-width', 'Class']\n",
    "dataset = pd.read_csv(url, names=names)  \n",
    "\n",
    "X = dataset.iloc[:, :-1].values  \n",
    "y = dataset.iloc[:, 4].values  \n",
    "X_train, X_test, y_train, y_test = train_test_split(X, y, test_size=0.20) "
   ]
  },
  {
   "cell_type": "code",
   "execution_count": 4,
   "metadata": {},
   "outputs": [
    {
     "name": "stdout",
     "output_type": "stream",
     "text": [
      "             Actual        Predicted\n",
      "0   Iris-versicolor  Iris-versicolor\n",
      "1       Iris-setosa      Iris-setosa\n",
      "2    Iris-virginica   Iris-virginica\n",
      "3    Iris-virginica   Iris-virginica\n",
      "4    Iris-virginica   Iris-virginica\n",
      "5    Iris-virginica   Iris-virginica\n",
      "6       Iris-setosa      Iris-setosa\n",
      "7       Iris-setosa      Iris-setosa\n",
      "8       Iris-setosa      Iris-setosa\n",
      "9       Iris-setosa      Iris-setosa\n",
      "10   Iris-virginica   Iris-virginica\n",
      "11   Iris-virginica   Iris-virginica\n",
      "12   Iris-virginica   Iris-virginica\n",
      "13  Iris-versicolor  Iris-versicolor\n",
      "14      Iris-setosa      Iris-setosa\n"
     ]
    }
   ],
   "source": [
    "svc = SVC(kernel='linear')\n",
    "svc.fit(X_train,y_train)\n",
    "Ypred = svc.predict(X_test)\n",
    "Df = pd.DataFrame({'Actual':y_test,'Predicted':Ypred})\n",
    "print(Df[:15])\n"
   ]
  },
  {
   "cell_type": "code",
   "execution_count": 7,
   "metadata": {},
   "outputs": [
    {
     "name": "stdout",
     "output_type": "stream",
     "text": [
      "The Accuracy of SVM model is 100.0%\n",
      "The confusion matrix is as follows:\n",
      "[[10  0  0]\n",
      " [ 0  7  0]\n",
      " [ 0  0 13]]\n"
     ]
    }
   ],
   "source": [
    "ACC = accuracy_score(y_test,Ypred)\n",
    "print(\"The Accuracy of SVM model is \"+str(ACC*100)+\"%\")\n",
    "CONFMATRIX = confusion_matrix(y_test,Ypred)\n",
    "print(\"The confusion matrix is as follows:\")\n",
    "print(CONFMATRIX)"
   ]
  },
  {
   "cell_type": "code",
   "execution_count": null,
   "metadata": {},
   "outputs": [],
   "source": []
  }
 ],
 "metadata": {
  "kernelspec": {
   "display_name": "Python 2",
   "language": "python",
   "name": "python2"
  },
  "language_info": {
   "codemirror_mode": {
    "name": "ipython",
    "version": 2
   },
   "file_extension": ".py",
   "mimetype": "text/x-python",
   "name": "python",
   "nbconvert_exporter": "python",
   "pygments_lexer": "ipython2",
   "version": "2.7.15+"
  }
 },
 "nbformat": 4,
 "nbformat_minor": 2
}
