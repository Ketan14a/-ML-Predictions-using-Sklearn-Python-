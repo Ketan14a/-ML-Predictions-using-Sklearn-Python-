{
 "cells": [
  {
   "cell_type": "code",
   "execution_count": 5,
   "metadata": {},
   "outputs": [
    {
     "name": "stdout",
     "output_type": "stream",
     "text": [
      "Done\n"
     ]
    }
   ],
   "source": [
    "import pandas as pd\n",
    "from sklearn.tree import DecisionTreeClassifier \n",
    "from sklearn.model_selection import train_test_split\n",
    "from sklearn.metrics import accuracy_score\n",
    "from sklearn.externals.six import StringIO  \n",
    "from sklearn.tree import export_graphviz\n",
    "import pydotplus\n",
    "print(\"Done\")\n"
   ]
  },
  {
   "cell_type": "code",
   "execution_count": 6,
   "metadata": {},
   "outputs": [
    {
     "name": "stdout",
     "output_type": "stream",
     "text": [
      "Decesion Tree Trained!\n"
     ]
    }
   ],
   "source": [
    "someData = pd.read_csv('diabetes.csv')\n",
    "feature_cols = ['pregnant', 'insulin', 'bmi', 'age','glucose','bp','pedigree']\n",
    "X = someData.iloc[:,:-1].values\n",
    "Y= someData.iloc[:,-1].values\n",
    "\n",
    "X = X[1:]\n",
    "Y = Y[1:]\n",
    "Xtrain,Xtest,Ytrain,Ytest=train_test_split(X,Y,test_size=0.2, random_state=0)\n",
    "\n",
    "Dtree = DecisionTreeClassifier(criterion=\"entropy\")\n",
    "Dtree.fit(Xtrain,Ytrain)\n",
    "print(\"Decesion Tree Trained!\")"
   ]
  },
  {
   "cell_type": "code",
   "execution_count": 7,
   "metadata": {},
   "outputs": [
    {
     "name": "stdout",
     "output_type": "stream",
     "text": [
      "    Actual  Predicted\n",
      "0        1          0\n",
      "1        0          0\n",
      "2        1          1\n",
      "3        1          1\n",
      "4        0          0\n",
      "5        0          1\n",
      "6        1          0\n",
      "7        0          0\n",
      "8        0          0\n",
      "9        0          0\n",
      "10       0          0\n",
      "11       0          1\n",
      "12       0          0\n",
      "13       0          1\n",
      "14       0          0\n",
      "15       0          0\n",
      "The accuracy of model is 72.07792207792207%\n"
     ]
    }
   ],
   "source": [
    "Ypred = Dtree.predict(Xtest)\n",
    "df = pd.DataFrame({'Actual': Ytest, 'Predicted': Ypred})  \n",
    "print(df[0:16])\n",
    "ACC = accuracy_score(Ytest, Ypred)\n",
    "print(\"The accuracy of model is \"+str(ACC*100)+\"%\")"
   ]
  },
  {
   "cell_type": "code",
   "execution_count": 10,
   "metadata": {},
   "outputs": [
    {
     "data": {
      "text/plain": [
       "True"
      ]
     },
     "execution_count": 10,
     "metadata": {},
     "output_type": "execute_result"
    }
   ],
   "source": [
    "from sklearn.externals.six import StringIO  \n",
    "from sklearn.tree import export_graphviz\n",
    "import pydotplus\n",
    "dot_data = StringIO()\n",
    "\n",
    "export_graphviz(Dtree, out_file=dot_data,  \n",
    "                filled=True, rounded=True)\n",
    "\n",
    "graph = pydotplus.graph_from_dot_data(dot_data.getvalue())  \n",
    "graph.write_png('tree.png')"
   ]
  },
  {
   "cell_type": "code",
   "execution_count": null,
   "metadata": {},
   "outputs": [],
   "source": []
  }
 ],
 "metadata": {
  "kernelspec": {
   "display_name": "Python 2",
   "language": "python",
   "name": "python2"
  },
  "language_info": {
   "codemirror_mode": {
    "name": "ipython",
    "version": 2
   },
   "file_extension": ".py",
   "mimetype": "text/x-python",
   "name": "python",
   "nbconvert_exporter": "python",
   "pygments_lexer": "ipython2",
   "version": "2.7.15+"
  }
 },
 "nbformat": 4,
 "nbformat_minor": 2
}
