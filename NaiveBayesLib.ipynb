{
 "cells": [
  {
   "cell_type": "code",
   "execution_count": 13,
   "metadata": {},
   "outputs": [
    {
     "name": "stdout",
     "output_type": "stream",
     "text": [
      "   Actual Predicted\n",
      "0       1         1\n",
      "1       0         0\n",
      "2       0         0\n",
      "3       1         1\n",
      "4       0         0\n",
      "5       0         0\n",
      "6       1         1\n",
      "7       1         1\n",
      "8       0         1\n",
      "9       0         0\n",
      "10      1         1\n",
      "11      1         1\n",
      "12      0         0\n",
      "13      0         1\n",
      "14      0         0\n",
      "The accuracy of model is 79.22077922077922%\n"
     ]
    }
   ],
   "source": [
    "import pandas as pd\n",
    "from sklearn.naive_bayes import GaussianNB\n",
    "from sklearn.model_selection import train_test_split \n",
    "from sklearn.metrics import accuracy_score\n",
    "\n",
    "gnb=GaussianNB()\n",
    "COLUMNS = ['Pregnancies','Glucose','BloodPressure','SkinThickness','Insulin','BMI','DiabetesPedigreeFunction','Age','Outcome']\n",
    "DATA = pd.read_csv('diabetes.csv',names=COLUMNS)\n",
    "X = DATA.iloc[:,:-1].values\n",
    "Y = DATA.iloc[:,-1].values\n",
    "X=X[1:]\n",
    "Y=Y[1:]\n",
    "X_train, X_test, Y_train, Y_test = train_test_split(X, Y, test_size=0.2, random_state=0) \n",
    "\n",
    "gnb.fit(X_train,Y_train)\n",
    "Ypred = gnb.predict(X_test)\n",
    "df = pd.DataFrame({'Actual': Y_test, 'Predicted': Ypred})  \n",
    "print(df[0:15])\n",
    "ACC = accuracy_score(Y_test, Ypred)\n",
    "print(\"The accuracy of model is \"+str(ACC*100)+\"%\")\n"
   ]
  },
  {
   "cell_type": "code",
   "execution_count": 17,
   "metadata": {},
   "outputs": [
    {
     "name": "stdout",
     "output_type": "stream",
     "text": [
      "Model Trained!\n",
      "Now, please enter data of testing sample as follows:\n",
      "Enter Number of pregnancies:3\n",
      "Enter Glucose Amount:93\n",
      "Enter Blood pressure:70\n",
      "Enter Skin thickness:31\n",
      "Enter Inuslin AMount:0\n",
      "Enter BMI:30.4\n",
      "Enter DPF:0.315\n",
      "Enter age:23\n",
      "['0']\n",
      "Model says that The person will not suffer from Diabetes\n"
     ]
    }
   ],
   "source": [
    "print(\"Model Trained!\")\n",
    "print(\"Now, please enter data of testing sample as follows:\")\n",
    "Preg = int(input(\"Enter Number of pregnancies:\"))\n",
    "Glucose = int(input(\"Enter Glucose Amount:\"))\n",
    "BP = int(input(\"Enter Blood pressure:\"))\n",
    "ST = int(input(\"Enter Skin thickness:\"))\n",
    "Ins = int(input(\"Enter Inuslin AMount:\"))\n",
    "bmi = int(input(\"Enter BMI:\"))\n",
    "Func = int(input(\"Enter DPF:\"))\n",
    "age = int(input(\"Enter age:\"))\n",
    "\n",
    "SampleX = [Preg,Glucose,BP,ST,Ins,bmi,Func,age]\n",
    "\n",
    "PREDICTED_VALUE = gnb.predict([SampleX])\n",
    "print(PREDICTED_VALUE)\n",
    "if PREDICTED_VALUE ==['0']:\n",
    "    print(\"Model says that The person will not suffer from Diabetes\")\n",
    "else:\n",
    "    print(\"Model says that Person will suffer from Diabetes\")"
   ]
  },
  {
   "cell_type": "code",
   "execution_count": null,
   "metadata": {},
   "outputs": [],
   "source": []
  }
 ],
 "metadata": {
  "kernelspec": {
   "display_name": "Python 2",
   "language": "python",
   "name": "python2"
  },
  "language_info": {
   "codemirror_mode": {
    "name": "ipython",
    "version": 2
   },
   "file_extension": ".py",
   "mimetype": "text/x-python",
   "name": "python",
   "nbconvert_exporter": "python",
   "pygments_lexer": "ipython2",
   "version": "2.7.15+"
  }
 },
 "nbformat": 4,
 "nbformat_minor": 2
}
