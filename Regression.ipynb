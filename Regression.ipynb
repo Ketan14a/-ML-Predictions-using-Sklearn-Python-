{
 "cells": [
  {
   "cell_type": "code",
   "execution_count": null,
   "metadata": {},
   "outputs": [],
   "source": [
    "import matplotlib.pyplot as plt\n",
    "X = [1,3,2,1,3]\n",
    "Y = [14,24,18,17,27]\n",
    "\n",
    "Xsum = sum(X)\n",
    "Ysum = sum(Y)\n",
    "\n",
    "Xbar = Xsum/X.__len__()\n",
    "Ybar = Ysum/Y.__len__()\n",
    "\n",
    "Num = 0\n",
    "Den = 0\n",
    "\n",
    "for i in range(X.__len__()):\n",
    "    t1 = X[i]-Xbar\n",
    "    t2 = Y[i]-Ybar\n",
    "    T = t1*t2\n",
    "    Num+=T\n",
    "    Den+=t1**2\n",
    "\n",
    "b1 = Num/(Den*1.0)\n",
    "b0 = Ybar - (b1*Xbar)\n",
    "print \"b1:\"+str(b1)\n",
    "print\"b0:\"+str(b0)\n",
    "# Regression line is b0 + b1X\n",
    "\n",
    "Ycap = []\n",
    "\n",
    "for i in X:\n",
    "    temp = b0 + (b1*i)\n",
    "    Ycap.append(temp)\n",
    "\n",
    "\n",
    "SSE = 0\n",
    "SSR = 0\n",
    "\n",
    "for i in range(Y.__len__()):\n",
    "    Diff = Y[i]-Ycap[i]\n",
    "    SSE+=Diff**2\n",
    "    Diff = Ycap[i]-Ybar\n",
    "    SSR+=Diff**2\n",
    "\n",
    "SST = SSR + SSE\n",
    "LAMBDA_SQUARE = SSR/(SST*1.0)\n",
    "print(\"Rsq:\"+str(LAMBDA_SQUARE))\n",
    "\n",
    "plt.scatter(X, Y,color='red')\n",
    "plt.plot(X,Ycap,color='blue')\n",
    "plt.scatter(X,Ycap,color='green')\n",
    "plt.title('My scatter Plot')\n",
    "plt.xlabel('x')\n",
    "plt.ylabel('y')\n",
    "plt.show()\n"
   ]
  },
  {
   "cell_type": "code",
   "execution_count": 4,
   "metadata": {},
   "outputs": [
    {
     "data": {
      "text/plain": [
       "LinearRegression(copy_X=True, fit_intercept=True, n_jobs=None,\n",
       "         normalize=False)"
      ]
     },
     "execution_count": 4,
     "metadata": {},
     "output_type": "execute_result"
    }
   ],
   "source": [
    "from sklearn.model_selection import train_test_split\n",
    "from sklearn.linear_model import LinearRegression\n",
    "import pandas as pd\n",
    "import numpy \n",
    "import matplotlib.pyplot as plt\n",
    "from sklearn.model_selection import train_test_split \n",
    "from sklearn.metrics import accuracy_score\n",
    "\n",
    "DATA = pd.read_csv('diabetes.csv')\n",
    "X = DATA.iloc[:,:-1].values\n",
    "Y = DATA.iloc[:,-1].values\n",
    "X = X[1:]\n",
    "Y = Y[1:]\n",
    "X_train,X_test,Y_train,Y_test = train_test_split(X,Y,test_size=1/3,random_state=0)\n",
    "Reg = LinearRegression()\n",
    "Ans=Reg.fit(X,Y)\n",
    "Ypred = Reg.predict(X_test)\n",
    "df = pd.DataFrame({'Actual': Y_test, 'Predicted': Ypred})  \n",
    "print(df[0:15])\n",
    "ACC = accuracy_score(Y_test, Ypred)\n",
    "print(\"The accuracy of model is \"+str(ACC*100)+\"%\")\n",
    "\n",
    "\n"
   ]
  },
  {
   "cell_type": "code",
   "execution_count": null,
   "metadata": {},
   "outputs": [],
   "source": []
  },
  {
   "cell_type": "code",
   "execution_count": null,
   "metadata": {},
   "outputs": [],
   "source": []
  }
 ],
 "metadata": {
  "kernelspec": {
   "display_name": "Python 2",
   "language": "python",
   "name": "python2"
  },
  "language_info": {
   "codemirror_mode": {
    "name": "ipython",
    "version": 2
   },
   "file_extension": ".py",
   "mimetype": "text/x-python",
   "name": "python",
   "nbconvert_exporter": "python",
   "pygments_lexer": "ipython2",
   "version": "2.7.15+"
  }
 },
 "nbformat": 4,
 "nbformat_minor": 2
}
