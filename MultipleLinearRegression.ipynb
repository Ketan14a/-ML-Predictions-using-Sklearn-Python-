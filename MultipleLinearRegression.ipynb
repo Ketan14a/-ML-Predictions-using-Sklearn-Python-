{
 "cells": [
  {
   "cell_type": "code",
   "execution_count": 1,
   "metadata": {},
   "outputs": [],
   "source": [
    "import pandas as pd\n",
    "import numpy as np\n",
    "import matplotlib.pyplot as plt\n",
    "from sklearn.model_selection import train_test_split \n",
    "from sklearn.linear_model import LinearRegression  \n",
    "from sklearn import metrics  \n",
    "from sklearn.externals.six import StringIO  \n",
    "from IPython.display import Image  \n",
    "from sklearn.tree import export_graphviz\n",
    "import pydotplus\n",
    "from sklearn.metrics import accuracy_score\n",
    "DATASET = pd.read_csv('diabetes.csv')\n",
    "\n"
   ]
  },
  {
   "cell_type": "code",
   "execution_count": 2,
   "metadata": {},
   "outputs": [
    {
     "name": "stdout",
     "output_type": "stream",
     "text": [
      "    Actual  Predicted\n",
      "0        1   1.038937\n",
      "1        0   0.217677\n",
      "2        0   0.081620\n",
      "3        1   0.624920\n",
      "4        0   0.222276\n",
      "5        0  -0.029924\n",
      "6        1   0.589463\n",
      "7        1   0.844379\n",
      "8        0   0.414874\n",
      "9        0   0.415098\n",
      "10       1   0.541464\n",
      "11       1   1.050799\n",
      "12       0   0.388818\n",
      "13       0   0.229068\n",
      "14       0   0.114320\n",
      "15       0   0.273742\n"
     ]
    }
   ],
   "source": [
    "X = DATASET.iloc[:, :-1].values \n",
    "Y = DATASET.iloc[:,-1].values\n",
    "X_train, X_test, Y_train, Y_test = train_test_split(X, Y, test_size=0.2, random_state=0)  \n",
    "regressor = LinearRegression()  \n",
    "regressor.fit(X_train, Y_train) \n",
    "Ypred = regressor.predict(X_test)  \n",
    "df = pd.DataFrame({'Actual': Y_test, 'Predicted': Ypred})  \n",
    "print(df[0:16])"
   ]
  },
  {
   "cell_type": "code",
   "execution_count": 5,
   "metadata": {},
   "outputs": [
    {
     "name": "stdout",
     "output_type": "stream",
     "text": [
      "('Mean Absolute Error:', 0.3287480039840967)\n",
      "('Mean Squared Error:', 0.15144250120640182)\n",
      "('Root Mean Squared Error:', 0.3891561398801281)\n",
      "('r2:', 0.2858201712843458)\n",
      "0.7987012987012987\n"
     ]
    }
   ],
   "source": [
    "print('Mean Absolute Error:', metrics.mean_absolute_error(Y_test, Ypred))  \n",
    "print('Mean Squared Error:', metrics.mean_squared_error(Y_test, Ypred))  \n",
    "print('Root Mean Squared Error:', np.sqrt(metrics.mean_squared_error(Y_test, Ypred)))  \n",
    "print('r2:',metrics.r2_score(Y_test, Ypred))\n",
    "Yp = []\n",
    "for i in Ypred:\n",
    "    temp = round(i)\n",
    "    Yp.append(temp)\n",
    "\n",
    "    \n",
    "print(accuracy_score(Y_test,Yp))"
   ]
  },
  {
   "cell_type": "code",
   "execution_count": null,
   "metadata": {},
   "outputs": [],
   "source": [
    "dot_data = StringIO()\n",
    "\n",
    "export_graphviz(dtree, out_file=dot_data,  \n",
    "                filled=True, rounded=True,\n",
    "                special_characters=True)\n",
    "\n",
    "graph = pydotplus.graph_from_dot_data(dot_data.getvalue())  \n",
    "Image(graph.create_png())"
   ]
  }
 ],
 "metadata": {
  "kernelspec": {
   "display_name": "Python 2",
   "language": "python",
   "name": "python2"
  },
  "language_info": {
   "codemirror_mode": {
    "name": "ipython",
    "version": 2
   },
   "file_extension": ".py",
   "mimetype": "text/x-python",
   "name": "python",
   "nbconvert_exporter": "python",
   "pygments_lexer": "ipython2",
   "version": "2.7.15+"
  }
 },
 "nbformat": 4,
 "nbformat_minor": 2
}
