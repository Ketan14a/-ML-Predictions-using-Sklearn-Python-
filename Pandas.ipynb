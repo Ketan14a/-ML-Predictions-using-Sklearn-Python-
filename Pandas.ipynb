{
 "cells": [
  {
   "cell_type": "code",
   "execution_count": 1,
   "metadata": {},
   "outputs": [
    {
     "name": "stdout",
     "output_type": "stream",
     "text": [
      "The created Frame is \n",
      "      Name  Marks\n",
      "0     Amit     57\n",
      "1  Shourya     69\n",
      "2    Nimit     96\n",
      "3      Ram     87\n",
      "4   Neeraj     65\n"
     ]
    }
   ],
   "source": [
    "import pandas as pd\n",
    "\n",
    "myData = [['Amit',57],['Shourya',69],['Nimit',96],['Ram',87],['Neeraj',65]]\n",
    "\n",
    "myFrame = pd.DataFrame(myData,columns=['Name','Marks'])\n",
    "\n",
    "print(\"The created Frame is \")\n",
    "print(myFrame)"
   ]
  },
  {
   "cell_type": "code",
   "execution_count": 4,
   "metadata": {},
   "outputs": [
    {
     "name": "stdout",
     "output_type": "stream",
     "text": [
      "The dataframe read from CSV is \n",
      "     Outlook Temperature Humidity  Windy?  Score\n",
      "0      sunny         hot     high   False     10\n",
      "1      sunny         hot     high    True     12\n",
      "2   overcast         hot     high   False     15\n",
      "3      rainy        mild     high   False     16\n",
      "4      rainy        cool   normal   False     20\n",
      "5      rainy        cool   normal    True     14\n",
      "6   overcast        cool   normal    True     20\n",
      "7      sunny        mild     high   False     16\n",
      "8      sunny        cool   normal   False     11\n",
      "9      rainy        mild   normal   False     17\n",
      "10     sunny        mild   normal    True     18\n",
      "11  overcast        mild     high    True     13\n",
      "12  overcast         hot   normal   False     14\n",
      "13     rainy        mild     high    True     25\n",
      "Now, displaying single Column:-\n",
      "0     10\n",
      "1     12\n",
      "2     15\n",
      "3     16\n",
      "4     20\n",
      "5     14\n",
      "6     20\n",
      "7     16\n",
      "8     11\n",
      "9     17\n",
      "10    18\n",
      "11    13\n",
      "12    14\n",
      "13    25\n",
      "Name: Score, dtype: int64\n",
      "Now, manipulating scores\n",
      "After manipulations, the scores are:-\n",
      "0     110\n",
      "1     112\n",
      "2     115\n",
      "3     116\n",
      "4     120\n",
      "5     114\n",
      "6     120\n",
      "7     116\n",
      "8     111\n",
      "9     117\n",
      "10    118\n",
      "11    113\n",
      "12    114\n",
      "13    125\n",
      "Name: Score, dtype: int64\n"
     ]
    }
   ],
   "source": [
    "COLS = ['Outlook','Temperature','Humidity','Windy?','Score']\n",
    "print(\"The dataframe read from CSV is \")\n",
    "csvFrame = pd.read_csv('/home/ketan/Desktop/8th sem/Machinie_Learning/dataset.csv',names=COLS)\n",
    "print(csvFrame)\n",
    "\n",
    "print(\"Now, displaying single Column:-\")\n",
    "print(csvFrame['Score'])\n",
    "\n",
    "print(\"Now, manipulating scores\")\n",
    "LEN = (csvFrame['Score'].count())\n",
    "for i in range(LEN):\n",
    "    csvFrame.loc[i,'Score']+=100\n",
    "\n",
    "print('After manipulations, the scores are:-')\n",
    "print(csvFrame['Score'])\n",
    "csvFrame.to_csv('/home/ketan/Desktop/8th sem/Machinie_Learning/StoredCSV.csv')"
   ]
  },
  {
   "cell_type": "code",
   "execution_count": 9,
   "metadata": {},
   "outputs": [
    {
     "name": "stdout",
     "output_type": "stream",
     "text": [
      "   Marks_scored    Name subject_id\n",
      "1            98   Ketan       sub1\n",
      "2            90   Monil       sub2\n",
      "3            87   Dhruv       sub4\n",
      "4            69   Vivek       sub6\n",
      "5            78  Vishal       sub5\n",
      "1            89   Vijay       sub2\n",
      "2            80     Ram       sub4\n",
      "3            79  Xander       sub3\n",
      "4            97   Shyam       sub6\n",
      "5            88   Sumit       sub5\n"
     ]
    }
   ],
   "source": [
    "\n",
    "one = pd.DataFrame({\n",
    "         'Name': ['Ketan', 'Monil', 'Dhruv', 'Vivek','Vishal'],\n",
    "         'subject_id':['sub1','sub2','sub4','sub6','sub5'],\n",
    "         'Marks_scored':[98,90,87,69,78]},\n",
    "         index=[1,2,3,4,5])\n",
    "two = pd.DataFrame({\n",
    "         'Name': ['Vijay', 'Ram', 'Xander', 'Shyam', 'Sumit'],\n",
    "         'subject_id':['sub2','sub4','sub3','sub6','sub5'],\n",
    "         'Marks_scored':[89,80,79,97,88]},\n",
    "         index=[1,2,3,4,5])\n",
    "print pd.concat([one,two])\n"
   ]
  },
  {
   "cell_type": "code",
   "execution_count": 11,
   "metadata": {},
   "outputs": [
    {
     "name": "stdout",
     "output_type": "stream",
     "text": [
      "   Name_x  id subject_id_x  Name_y subject_id_y\n",
      "0   Ketan   1         sub1   Vijay         sub2\n",
      "1   Monil   2         sub2     Ram         sub4\n",
      "2   Dhruv   3         sub4  Xander         sub3\n",
      "3   Vivek   4         sub6   Shyam         sub6\n",
      "4  Vishal   5         sub5   Sumit         sub5\n"
     ]
    }
   ],
   "source": [
    "left = pd.DataFrame({\n",
    "         'id':[1,2,3,4,5],\n",
    "         'Name': ['Ketan', 'Monil', 'Dhruv', 'Vivek','Vishal'],\n",
    "         'subject_id':['sub1','sub2','sub4','sub6','sub5']})\n",
    "right = pd.DataFrame(\n",
    "         {'id':[1,2,3,4,5],\n",
    "         'Name': ['Vijay', 'Ram', 'Xander', 'Shyam', 'Sumit'],\n",
    "         'subject_id':['sub2','sub4','sub3','sub6','sub5']})\n",
    "print pd.merge(left,right,on='id')"
   ]
  },
  {
   "cell_type": "code",
   "execution_count": 14,
   "metadata": {},
   "outputs": [
    {
     "name": "stdout",
     "output_type": "stream",
     "text": [
      "     Name subject_id\n",
      "0   Ketan       sub1\n",
      "1   Monil       sub2\n",
      "2   Dhruv       sub4\n",
      "3   Vivek       sub6\n",
      "4  Vishal       sub5\n",
      "0   Vijay       sub2\n",
      "1     Ram       sub4\n",
      "2  Xander       sub3\n",
      "3   Shyam       sub6\n",
      "4   Sumit       sub5\n"
     ]
    }
   ],
   "source": [
    "left = pd.DataFrame({\n",
    "         'Name': ['Ketan', 'Monil', 'Dhruv', 'Vivek','Vishal'],\n",
    "         'subject_id':['sub1','sub2','sub4','sub6','sub5']})\n",
    "right = pd.DataFrame(\n",
    "         {\n",
    "         'Name': ['Vijay', 'Ram', 'Xander', 'Shyam', 'Sumit'],\n",
    "         'subject_id':['sub2','sub4','sub3','sub6','sub5']})\n",
    "\n",
    "left=left.append(right)\n",
    "print left"
   ]
  },
  {
   "cell_type": "code",
   "execution_count": null,
   "metadata": {},
   "outputs": [],
   "source": []
  }
 ],
 "metadata": {
  "kernelspec": {
   "display_name": "Python 2",
   "language": "python",
   "name": "python2"
  },
  "language_info": {
   "codemirror_mode": {
    "name": "ipython",
    "version": 2
   },
   "file_extension": ".py",
   "mimetype": "text/x-python",
   "name": "python",
   "nbconvert_exporter": "python",
   "pygments_lexer": "ipython2",
   "version": "2.7.15+"
  }
 },
 "nbformat": 4,
 "nbformat_minor": 2
}
