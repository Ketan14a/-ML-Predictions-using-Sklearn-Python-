{
 "cells": [
  {
   "cell_type": "code",
   "execution_count": 2,
   "metadata": {},
   "outputs": [
    {
     "name": "stdout",
     "output_type": "stream",
     "text": [
      "b1:5.0\n",
      "b0:10.0\n",
      "Rsq:0.877192982456\n"
     ]
    },
    {
     "data": {
      "image/png": "[encoded data removed]",
      "text/plain": [
       "<Figure size 432x288 with 1 Axes>"
      ]
     },
     "metadata": {
      "needs_background": "light"
     },
     "output_type": "display_data"
    }
   ],
   "source": [
    "import matplotlib.pyplot as plt\n",
    "X = [1,3,2,1,3]\n",
    "Y = [14,24,18,17,27]\n",
    "\n",
    "Xsum = sum(X)\n",
    "Ysum = sum(Y)\n",
    "\n",
    "Xbar = Xsum/X.__len__()\n",
    "Ybar = Ysum/Y.__len__()\n",
    "\n",
    "Num = 0\n",
    "Den = 0\n",
    "\n",
    "for i in range(X.__len__()):\n",
    "    t1 = X[i]-Xbar\n",
    "    t2 = Y[i]-Ybar\n",
    "    T = t1*t2\n",
    "    Num+=T\n",
    "    Den+=t1**2\n",
    "\n",
    "b1 = Num/(Den*1.0)\n",
    "b0 = Ybar - (b1*Xbar)\n",
    "print \"b1:\"+str(b1)\n",
    "print\"b0:\"+str(b0)\n",
    "# Regression line is b0 + b1X\n",
    "\n",
    "Ycap = []\n",
    "\n",
    "for i in X:\n",
    "    temp = b0 + (b1*i)\n",
    "    Ycap.append(temp)\n",
    "\n",
    "\n",
    "SSE = 0\n",
    "SSR = 0\n",
    "\n",
    "for i in range(Y.__len__()):\n",
    "    Diff = Y[i]-Ycap[i]\n",
    "    SSE+=Diff**2\n",
    "    Diff = Ycap[i]-Ybar\n",
    "    SSR+=Diff**2\n",
    "\n",
    "SST = SSR + SSE\n",
    "LAMBDA_SQUARE = SSR/(SST*1.0)\n",
    "print(\"Rsq:\"+str(LAMBDA_SQUARE))\n",
    "\n",
    "plt.scatter(X, Y,color='red')\n",
    "plt.plot(X,Ycap,color='blue')\n",
    "plt.title('My scatter Plot')\n",
    "plt.xlabel('x')\n",
    "plt.ylabel('y')\n",
    "plt.show()\n"
   ]
  },
  {
   "cell_type": "code",
   "execution_count": null,
   "metadata": {},
   "outputs": [],
   "source": []
  }
 ],
 "metadata": {
  "kernelspec": {
   "display_name": "Python 2",
   "language": "python",
   "name": "python2"
  },
  "language_info": {
   "codemirror_mode": {
    "name": "ipython",
    "version": 2
   },
   "file_extension": ".py",
   "mimetype": "text/x-python",
   "name": "python",
   "nbconvert_exporter": "python",
   "pygments_lexer": "ipython2",
   "version": "2.7.15+"
  }
 },
 "nbformat": 4,
 "nbformat_minor": 2
}
