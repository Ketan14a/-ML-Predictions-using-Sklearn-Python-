{
 "cells": [
  {
   "cell_type": "code",
   "execution_count": 1,
   "metadata": {},
   "outputs": [
    {
     "name": "stdout",
     "output_type": "stream",
     "text": [
      "The array is\n",
      "[[1 2 3]\n",
      " [4 5 6]\n",
      " [7 8 9]]\n"
     ]
    }
   ],
   "source": [
    "import numpy as np\n",
    "#Printing a simple 3*3 Array\n",
    "a = np.array([(1,2,3),(4,5,6),(7,8,9)])\n",
    "print(\"The array is\")\n",
    "print(a)"
   ]
  },
  {
   "cell_type": "code",
   "execution_count": 2,
   "metadata": {},
   "outputs": [
    {
     "name": "stdout",
     "output_type": "stream",
     "text": [
      "The dimensions are\n",
      "2\n",
      "The itemsize is \n",
      "8\n",
      "The data-type stored in array is \n",
      "int64\n"
     ]
    }
   ],
   "source": [
    "#Printing the Array dimension\n",
    "print(\"The dimensions are\")\n",
    "print(a.ndim)\n",
    "\n",
    "#Printing itemsize\n",
    "print(\"The itemsize is \")\n",
    "print(a.itemsize)\n",
    "\n",
    "#Printing the type stored in Numpy Array\n",
    "print(\"The data-type stored in array is \")\n",
    "print(a.dtype)"
   ]
  },
  {
   "cell_type": "code",
   "execution_count": 3,
   "metadata": {},
   "outputs": [
    {
     "name": "stdout",
     "output_type": "stream",
     "text": [
      "Total number of elements in Array:-\n",
      "9\n",
      "Shape of array is:-\n",
      "(3, 3)\n",
      "Before reshaping, array was:-\n",
      "[[1 2 3 4]\n",
      " [5 6 7 8]]\n",
      "After reshapping, array is \n",
      "[[1 2]\n",
      " [3 4]\n",
      " [5 6]\n",
      " [7 8]]\n"
     ]
    }
   ],
   "source": [
    "#Printing the size of Array OR Total number of elements in y\n",
    "print(\"Total number of elements in Array:-\")\n",
    "print(a.size)\n",
    "\n",
    "#Printing the shape of Numpy Array\n",
    "print(\"Shape of array is:-\")\n",
    "print(a.shape)\n",
    "\n",
    "#Re-shaping an Array\n",
    "b = np.array([(1,2,3,4),(5,6,7,8)])\n",
    "print(\"Before reshaping, array was:-\")\n",
    "print(b)\n",
    "Brshp = b.reshape(4,2)\n",
    "print(\"After reshapping, array is \")\n",
    "print(Brshp)"
   ]
  },
  {
   "cell_type": "code",
   "execution_count": 4,
   "metadata": {},
   "outputs": [
    {
     "name": "stdout",
     "output_type": "stream",
     "text": [
      "The element at 2,2 is 9\n",
      "The element at 1,0 is 4\n",
      "The sliced array is:-\n",
      "[3 7]\n",
      "1 to 10 equally spaced:-\n",
      "[ 1.    3.25  5.5   7.75 10.  ]\n",
      "Max of array: 89\n",
      "Min of array: 0\n",
      "Sum of all elements in array: 117\n"
     ]
    }
   ],
   "source": [
    "#Accessing a particular element\n",
    "\n",
    "print(\"The element at 2,2 is \"+ str(a[2,2]))\n",
    "print(\"The element at 1,0 is \"+str(a[1,0]))\n",
    "\n",
    "\n",
    "#Slicing a numpy array\n",
    "\n",
    "A = np.array([(1,2,3,4),(5,6,7,8),(9,10,11,12)])\n",
    "print(\"The sliced array is:-\")\n",
    "print(A[0:2,2])\n",
    "\n",
    "\n",
    "#Getting Equally spaced values between two numbers:-\n",
    "\n",
    "V1to10by5 = np.linspace(1,10,5)\n",
    "print(\"1 to 10 equally spaced:-\")\n",
    "print(V1to10by5)\n",
    "\n",
    "#Getting Max, Min and sum\n",
    "\n",
    "a = np.array([(1,2,3),(4,5,6),(7,89,0)])\n",
    "print(\"Max of array: \"+ str(a.max()))\n",
    "print(\"Min of array: \"+ str(a.min()))\n",
    "print(\"Sum of all elements in array: \"+ str(a.sum()))"
   ]
  },
  {
   "cell_type": "code",
   "execution_count": 5,
   "metadata": {},
   "outputs": [
    {
     "name": "stdout",
     "output_type": "stream",
     "text": [
      "Column vise sum is [12 15 18]\n",
      "Row vise sum is [ 6 15 24]\n",
      "The square rooted array is :-\n",
      "[[1.         1.41421356 1.73205081]\n",
      " [2.         2.23606798 2.44948974]\n",
      " [2.64575131 2.82842712 3.        ]]\n",
      "Stdev in Array elements is 2.581988897471611\n",
      "Sum:-\n",
      "[[11 22 33]\n",
      " [44 55 66]]\n",
      "Difference:- \n",
      "[[ -9 -18 -27]\n",
      " [-36 -45 -54]]\n",
      "Element vise Product:-\n",
      "[[ 10  40  90]\n",
      " [160 250 360]]\n",
      "Element vise Division:-\n",
      "[[0 0 0]\n",
      " [0 0 0]]\n"
     ]
    }
   ],
   "source": [
    "#Axis Sums (Sums on Rows and sums on Columns)\n",
    "\n",
    "a = np.array([(1,2,3),(4,5,6),(7,8,9)])\n",
    "print(\"Column vise sum is \"+ str(a.sum(axis=0))) #Column vise sum\n",
    "print(\"Row vise sum is \"+ str(a.sum(axis=1))) #Row vise sum\n",
    "\n",
    "#Finding the Square root and Stdev\n",
    "a = np.array([(1,2,3),(4,5,6),(7,8,9)])\n",
    "print(\"The square rooted array is :-\")\n",
    "print(np.sqrt(a)) #getting Square roots\n",
    "print(\"Stdev in Array elements is \"+ str(np.std(a)))\n",
    "\n",
    "#Basic Mathematical Operations\n",
    "A = np.array([(1,2,3),(4,5,6)])\n",
    "B = np.array([(10,20,30),(40,50,60)])\n",
    "\n",
    "print(\"Sum:-\")\n",
    "print(A+B)\n",
    "\n",
    "print(\"Difference:- \")\n",
    "print(A-B)\n",
    "\n",
    "print(\"Element vise Product:-\")\n",
    "print(A*B)\n",
    "\n",
    "print(\"Element vise Division:-\")\n",
    "print(A/B)"
   ]
  },
  {
   "cell_type": "code",
   "execution_count": 6,
   "metadata": {},
   "outputs": [
    {
     "name": "stdout",
     "output_type": "stream",
     "text": [
      "AFter vertical stacking:-\n",
      "[[ 1  2  3]\n",
      " [ 4  5  6]\n",
      " [10 20 30]\n",
      " [40 50 60]]\n",
      "AFter horizontal stacking:-\n",
      "[[ 1  2  3 10 20 30]\n",
      " [ 4  5  6 40 50 60]]\n",
      "Merging via Ravel function:-\n",
      "[1 2 3 4 5 6 7 8 9]\n"
     ]
    }
   ],
   "source": [
    "#Vertical Stacking\n",
    "\n",
    "print(\"AFter vertical stacking:-\")\n",
    "print(np.vstack((A,B)))\n",
    "\n",
    "#Horizontal Stacking\n",
    "\n",
    "print(\"AFter horizontal stacking:-\")\n",
    "print(np.hstack((A,B)))\n",
    "\n",
    "\n",
    "#Merging all elements row vise into a single dimensional list\n",
    "a = np.array([(1,2,3),(4,5,6),(7,8,9)])\n",
    "print(\"Merging via Ravel function:-\")\n",
    "print(a.ravel())"
   ]
  },
  {
   "cell_type": "code",
   "execution_count": 8,
   "metadata": {},
   "outputs": [
    {
     "name": "stdout",
     "output_type": "stream",
     "text": [
      "The Broadcasted array is \n",
      "[2 4 6]\n"
     ]
    }
   ],
   "source": [
    "x = np.arange(0,3*np.pi,0.1)\n",
    "#Broadcasting An array\n",
    "\n",
    "A = np.array([1,2,3])\n",
    "B = np.array([4,5,6])\n",
    "C = A.__mul__(2)\n",
    "print(\"The Broadcasted array is \")\n",
    "print(C)"
   ]
  },
  {
   "cell_type": "code",
   "execution_count": 9,
   "metadata": {},
   "outputs": [
    {
     "name": "stdout",
     "output_type": "stream",
     "text": [
      "Before Transposing:-\n",
      "[[1 1]\n",
      " [2 2]\n",
      " [3 3]]\n",
      "After transposing:-\n",
      "[[1 2 3]\n",
      " [1 2 3]]\n"
     ]
    }
   ],
   "source": [
    "#Transposing a numpy Array\n",
    "\n",
    "A = np.array([(1,1),(2,2),(3,3)])\n",
    "print(\"Before Transposing:-\")\n",
    "print(A)\n",
    "print(\"After transposing:-\")\n",
    "B = A.transpose()\n",
    "print(B)"
   ]
  },
  {
   "cell_type": "code",
   "execution_count": 10,
   "metadata": {},
   "outputs": [
    {
     "name": "stdout",
     "output_type": "stream",
     "text": [
      "The multiplied matrix is \n",
      "[[2 3]\n",
      " [4 5]]\n"
     ]
    }
   ],
   "source": [
    "#Multiplying Two matrices\n",
    "A = np.matrix(((2,3),(4,5)))\n",
    "B = np.matrix(((1,0),(0,1)))\n",
    "C = A * B\n",
    "print(\"The multiplied matrix is \")\n",
    "print(C)\n"
   ]
  },
  {
   "cell_type": "code",
   "execution_count": null,
   "metadata": {},
   "outputs": [],
   "source": []
  }
 ],
 "metadata": {
  "kernelspec": {
   "display_name": "Python 2",
   "language": "python",
   "name": "python2"
  },
  "language_info": {
   "codemirror_mode": {
    "name": "ipython",
    "version": 2
   },
   "file_extension": ".py",
   "mimetype": "text/x-python",
   "name": "python",
   "nbconvert_exporter": "python",
   "pygments_lexer": "ipython2",
   "version": "2.7.15+"
  }
 },
 "nbformat": 4,
 "nbformat_minor": 2
}
